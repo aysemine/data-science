{
  "nbformat": 4,
  "nbformat_minor": 0,
  "metadata": {
    "colab": {
      "provenance": []
    },
    "kernelspec": {
      "name": "python3",
      "display_name": "Python 3"
    },
    "language_info": {
      "name": "python"
    }
  },
  "cells": [
    {
      "cell_type": "code",
      "execution_count": null,
      "metadata": {
        "colab": {
          "base_uri": "https://localhost:8080/",
          "height": 342
        },
        "id": "a43HxtCFOM4c",
        "outputId": "7f224592-6d57-409d-c6c0-139669fe776b"
      },
      "outputs": [
        {
          "output_type": "execute_result",
          "data": {
            "text/plain": [
              "   customerID  gender  SeniorCitizen Partner Dependents  tenure PhoneService  \\\n",
              "0  7590-VHVEG  Female              0     Yes         No       1           No   \n",
              "1  5575-GNVDE    Male              0      No         No      34          Yes   \n",
              "2  3668-QPYBK    Male              0      No         No       2          Yes   \n",
              "3  7795-CFOCW    Male              0      No         No      45           No   \n",
              "4  9237-HQITU  Female              0      No         No       2          Yes   \n",
              "\n",
              "      MultipleLines InternetService OnlineSecurity  ... DeviceProtection  \\\n",
              "0  No phone service             DSL             No  ...               No   \n",
              "1                No             DSL            Yes  ...              Yes   \n",
              "2                No             DSL            Yes  ...               No   \n",
              "3  No phone service             DSL            Yes  ...              Yes   \n",
              "4                No     Fiber optic             No  ...               No   \n",
              "\n",
              "  TechSupport StreamingTV StreamingMovies        Contract PaperlessBilling  \\\n",
              "0          No          No              No  Month-to-month              Yes   \n",
              "1          No          No              No        One year               No   \n",
              "2          No          No              No  Month-to-month              Yes   \n",
              "3         Yes          No              No        One year               No   \n",
              "4          No          No              No  Month-to-month              Yes   \n",
              "\n",
              "               PaymentMethod MonthlyCharges  TotalCharges Churn  \n",
              "0           Electronic check          29.85         29.85    No  \n",
              "1               Mailed check          56.95        1889.5    No  \n",
              "2               Mailed check          53.85        108.15   Yes  \n",
              "3  Bank transfer (automatic)          42.30       1840.75    No  \n",
              "4           Electronic check          70.70        151.65   Yes  \n",
              "\n",
              "[5 rows x 21 columns]"
            ],
            "text/html": [
              "\n",
              "  <div id=\"df-c75abc30-a1a3-4415-96e7-06e3dab98f80\" class=\"colab-df-container\">\n",
              "    <div>\n",
              "<style scoped>\n",
              "    .dataframe tbody tr th:only-of-type {\n",
              "        vertical-align: middle;\n",
              "    }\n",
              "\n",
              "    .dataframe tbody tr th {\n",
              "        vertical-align: top;\n",
              "    }\n",
              "\n",
              "    .dataframe thead th {\n",
              "        text-align: right;\n",
              "    }\n",
              "</style>\n",
              "<table border=\"1\" class=\"dataframe\">\n",
              "  <thead>\n",
              "    <tr style=\"text-align: right;\">\n",
              "      <th></th>\n",
              "      <th>customerID</th>\n",
              "      <th>gender</th>\n",
              "      <th>SeniorCitizen</th>\n",
              "      <th>Partner</th>\n",
              "      <th>Dependents</th>\n",
              "      <th>tenure</th>\n",
              "      <th>PhoneService</th>\n",
              "      <th>MultipleLines</th>\n",
              "      <th>InternetService</th>\n",
              "      <th>OnlineSecurity</th>\n",
              "      <th>...</th>\n",
              "      <th>DeviceProtection</th>\n",
              "      <th>TechSupport</th>\n",
              "      <th>StreamingTV</th>\n",
              "      <th>StreamingMovies</th>\n",
              "      <th>Contract</th>\n",
              "      <th>PaperlessBilling</th>\n",
              "      <th>PaymentMethod</th>\n",
              "      <th>MonthlyCharges</th>\n",
              "      <th>TotalCharges</th>\n",
              "      <th>Churn</th>\n",
              "    </tr>\n",
              "  </thead>\n",
              "  <tbody>\n",
              "    <tr>\n",
              "      <th>0</th>\n",
              "      <td>7590-VHVEG</td>\n",
              "      <td>Female</td>\n",
              "      <td>0</td>\n",
              "      <td>Yes</td>\n",
              "      <td>No</td>\n",
              "      <td>1</td>\n",
              "      <td>No</td>\n",
              "      <td>No phone service</td>\n",
              "      <td>DSL</td>\n",
              "      <td>No</td>\n",
              "      <td>...</td>\n",
              "      <td>No</td>\n",
              "      <td>No</td>\n",
              "      <td>No</td>\n",
              "      <td>No</td>\n",
              "      <td>Month-to-month</td>\n",
              "      <td>Yes</td>\n",
              "      <td>Electronic check</td>\n",
              "      <td>29.85</td>\n",
              "      <td>29.85</td>\n",
              "      <td>No</td>\n",
              "    </tr>\n",
              "    <tr>\n",
              "      <th>1</th>\n",
              "      <td>5575-GNVDE</td>\n",
              "      <td>Male</td>\n",
              "      <td>0</td>\n",
              "      <td>No</td>\n",
              "      <td>No</td>\n",
              "      <td>34</td>\n",
              "      <td>Yes</td>\n",
              "      <td>No</td>\n",
              "      <td>DSL</td>\n",
              "      <td>Yes</td>\n",
              "      <td>...</td>\n",
              "      <td>Yes</td>\n",
              "      <td>No</td>\n",
              "      <td>No</td>\n",
              "      <td>No</td>\n",
              "      <td>One year</td>\n",
              "      <td>No</td>\n",
              "      <td>Mailed check</td>\n",
              "      <td>56.95</td>\n",
              "      <td>1889.5</td>\n",
              "      <td>No</td>\n",
              "    </tr>\n",
              "    <tr>\n",
              "      <th>2</th>\n",
              "      <td>3668-QPYBK</td>\n",
              "      <td>Male</td>\n",
              "      <td>0</td>\n",
              "      <td>No</td>\n",
              "      <td>No</td>\n",
              "      <td>2</td>\n",
              "      <td>Yes</td>\n",
              "      <td>No</td>\n",
              "      <td>DSL</td>\n",
              "      <td>Yes</td>\n",
              "      <td>...</td>\n",
              "      <td>No</td>\n",
              "      <td>No</td>\n",
              "      <td>No</td>\n",
              "      <td>No</td>\n",
              "      <td>Month-to-month</td>\n",
              "      <td>Yes</td>\n",
              "      <td>Mailed check</td>\n",
              "      <td>53.85</td>\n",
              "      <td>108.15</td>\n",
              "      <td>Yes</td>\n",
              "    </tr>\n",
              "    <tr>\n",
              "      <th>3</th>\n",
              "      <td>7795-CFOCW</td>\n",
              "      <td>Male</td>\n",
              "      <td>0</td>\n",
              "      <td>No</td>\n",
              "      <td>No</td>\n",
              "      <td>45</td>\n",
              "      <td>No</td>\n",
              "      <td>No phone service</td>\n",
              "      <td>DSL</td>\n",
              "      <td>Yes</td>\n",
              "      <td>...</td>\n",
              "      <td>Yes</td>\n",
              "      <td>Yes</td>\n",
              "      <td>No</td>\n",
              "      <td>No</td>\n",
              "      <td>One year</td>\n",
              "      <td>No</td>\n",
              "      <td>Bank transfer (automatic)</td>\n",
              "      <td>42.30</td>\n",
              "      <td>1840.75</td>\n",
              "      <td>No</td>\n",
              "    </tr>\n",
              "    <tr>\n",
              "      <th>4</th>\n",
              "      <td>9237-HQITU</td>\n",
              "      <td>Female</td>\n",
              "      <td>0</td>\n",
              "      <td>No</td>\n",
              "      <td>No</td>\n",
              "      <td>2</td>\n",
              "      <td>Yes</td>\n",
              "      <td>No</td>\n",
              "      <td>Fiber optic</td>\n",
              "      <td>No</td>\n",
              "      <td>...</td>\n",
              "      <td>No</td>\n",
              "      <td>No</td>\n",
              "      <td>No</td>\n",
              "      <td>No</td>\n",
              "      <td>Month-to-month</td>\n",
              "      <td>Yes</td>\n",
              "      <td>Electronic check</td>\n",
              "      <td>70.70</td>\n",
              "      <td>151.65</td>\n",
              "      <td>Yes</td>\n",
              "    </tr>\n",
              "  </tbody>\n",
              "</table>\n",
              "<p>5 rows × 21 columns</p>\n",
              "</div>\n",
              "    <div class=\"colab-df-buttons\">\n",
              "\n",
              "  <div class=\"colab-df-container\">\n",
              "    <button class=\"colab-df-convert\" onclick=\"convertToInteractive('df-c75abc30-a1a3-4415-96e7-06e3dab98f80')\"\n",
              "            title=\"Convert this dataframe to an interactive table.\"\n",
              "            style=\"display:none;\">\n",
              "\n",
              "  <svg xmlns=\"http://www.w3.org/2000/svg\" height=\"24px\" viewBox=\"0 -960 960 960\">\n",
              "    <path d=\"M120-120v-720h720v720H120Zm60-500h600v-160H180v160Zm220 220h160v-160H400v160Zm0 220h160v-160H400v160ZM180-400h160v-160H180v160Zm440 0h160v-160H620v160ZM180-180h160v-160H180v160Zm440 0h160v-160H620v160Z\"/>\n",
              "  </svg>\n",
              "    </button>\n",
              "\n",
              "  <style>\n",
              "    .colab-df-container {\n",
              "      display:flex;\n",
              "      gap: 12px;\n",
              "    }\n",
              "\n",
              "    .colab-df-convert {\n",
              "      background-color: #E8F0FE;\n",
              "      border: none;\n",
              "      border-radius: 50%;\n",
              "      cursor: pointer;\n",
              "      display: none;\n",
              "      fill: #1967D2;\n",
              "      height: 32px;\n",
              "      padding: 0 0 0 0;\n",
              "      width: 32px;\n",
              "    }\n",
              "\n",
              "    .colab-df-convert:hover {\n",
              "      background-color: #E2EBFA;\n",
              "      box-shadow: 0px 1px 2px rgba(60, 64, 67, 0.3), 0px 1px 3px 1px rgba(60, 64, 67, 0.15);\n",
              "      fill: #174EA6;\n",
              "    }\n",
              "\n",
              "    .colab-df-buttons div {\n",
              "      margin-bottom: 4px;\n",
              "    }\n",
              "\n",
              "    [theme=dark] .colab-df-convert {\n",
              "      background-color: #3B4455;\n",
              "      fill: #D2E3FC;\n",
              "    }\n",
              "\n",
              "    [theme=dark] .colab-df-convert:hover {\n",
              "      background-color: #434B5C;\n",
              "      box-shadow: 0px 1px 3px 1px rgba(0, 0, 0, 0.15);\n",
              "      filter: drop-shadow(0px 1px 2px rgba(0, 0, 0, 0.3));\n",
              "      fill: #FFFFFF;\n",
              "    }\n",
              "  </style>\n",
              "\n",
              "    <script>\n",
              "      const buttonEl =\n",
              "        document.querySelector('#df-c75abc30-a1a3-4415-96e7-06e3dab98f80 button.colab-df-convert');\n",
              "      buttonEl.style.display =\n",
              "        google.colab.kernel.accessAllowed ? 'block' : 'none';\n",
              "\n",
              "      async function convertToInteractive(key) {\n",
              "        const element = document.querySelector('#df-c75abc30-a1a3-4415-96e7-06e3dab98f80');\n",
              "        const dataTable =\n",
              "          await google.colab.kernel.invokeFunction('convertToInteractive',\n",
              "                                                    [key], {});\n",
              "        if (!dataTable) return;\n",
              "\n",
              "        const docLinkHtml = 'Like what you see? Visit the ' +\n",
              "          '<a target=\"_blank\" href=https://colab.research.google.com/notebooks/data_table.ipynb>data table notebook</a>'\n",
              "          + ' to learn more about interactive tables.';\n",
              "        element.innerHTML = '';\n",
              "        dataTable['output_type'] = 'display_data';\n",
              "        await google.colab.output.renderOutput(dataTable, element);\n",
              "        const docLink = document.createElement('div');\n",
              "        docLink.innerHTML = docLinkHtml;\n",
              "        element.appendChild(docLink);\n",
              "      }\n",
              "    </script>\n",
              "  </div>\n",
              "\n",
              "\n",
              "<div id=\"df-15f6c0a0-a350-41be-bd59-f58a5f139411\">\n",
              "  <button class=\"colab-df-quickchart\" onclick=\"quickchart('df-15f6c0a0-a350-41be-bd59-f58a5f139411')\"\n",
              "            title=\"Suggest charts.\"\n",
              "            style=\"display:none;\">\n",
              "\n",
              "<svg xmlns=\"http://www.w3.org/2000/svg\" height=\"24px\"viewBox=\"0 0 24 24\"\n",
              "     width=\"24px\">\n",
              "    <g>\n",
              "        <path d=\"M19 3H5c-1.1 0-2 .9-2 2v14c0 1.1.9 2 2 2h14c1.1 0 2-.9 2-2V5c0-1.1-.9-2-2-2zM9 17H7v-7h2v7zm4 0h-2V7h2v10zm4 0h-2v-4h2v4z\"/>\n",
              "    </g>\n",
              "</svg>\n",
              "  </button>\n",
              "\n",
              "<style>\n",
              "  .colab-df-quickchart {\n",
              "      --bg-color: #E8F0FE;\n",
              "      --fill-color: #1967D2;\n",
              "      --hover-bg-color: #E2EBFA;\n",
              "      --hover-fill-color: #174EA6;\n",
              "      --disabled-fill-color: #AAA;\n",
              "      --disabled-bg-color: #DDD;\n",
              "  }\n",
              "\n",
              "  [theme=dark] .colab-df-quickchart {\n",
              "      --bg-color: #3B4455;\n",
              "      --fill-color: #D2E3FC;\n",
              "      --hover-bg-color: #434B5C;\n",
              "      --hover-fill-color: #FFFFFF;\n",
              "      --disabled-bg-color: #3B4455;\n",
              "      --disabled-fill-color: #666;\n",
              "  }\n",
              "\n",
              "  .colab-df-quickchart {\n",
              "    background-color: var(--bg-color);\n",
              "    border: none;\n",
              "    border-radius: 50%;\n",
              "    cursor: pointer;\n",
              "    display: none;\n",
              "    fill: var(--fill-color);\n",
              "    height: 32px;\n",
              "    padding: 0;\n",
              "    width: 32px;\n",
              "  }\n",
              "\n",
              "  .colab-df-quickchart:hover {\n",
              "    background-color: var(--hover-bg-color);\n",
              "    box-shadow: 0 1px 2px rgba(60, 64, 67, 0.3), 0 1px 3px 1px rgba(60, 64, 67, 0.15);\n",
              "    fill: var(--button-hover-fill-color);\n",
              "  }\n",
              "\n",
              "  .colab-df-quickchart-complete:disabled,\n",
              "  .colab-df-quickchart-complete:disabled:hover {\n",
              "    background-color: var(--disabled-bg-color);\n",
              "    fill: var(--disabled-fill-color);\n",
              "    box-shadow: none;\n",
              "  }\n",
              "\n",
              "  .colab-df-spinner {\n",
              "    border: 2px solid var(--fill-color);\n",
              "    border-color: transparent;\n",
              "    border-bottom-color: var(--fill-color);\n",
              "    animation:\n",
              "      spin 1s steps(1) infinite;\n",
              "  }\n",
              "\n",
              "  @keyframes spin {\n",
              "    0% {\n",
              "      border-color: transparent;\n",
              "      border-bottom-color: var(--fill-color);\n",
              "      border-left-color: var(--fill-color);\n",
              "    }\n",
              "    20% {\n",
              "      border-color: transparent;\n",
              "      border-left-color: var(--fill-color);\n",
              "      border-top-color: var(--fill-color);\n",
              "    }\n",
              "    30% {\n",
              "      border-color: transparent;\n",
              "      border-left-color: var(--fill-color);\n",
              "      border-top-color: var(--fill-color);\n",
              "      border-right-color: var(--fill-color);\n",
              "    }\n",
              "    40% {\n",
              "      border-color: transparent;\n",
              "      border-right-color: var(--fill-color);\n",
              "      border-top-color: var(--fill-color);\n",
              "    }\n",
              "    60% {\n",
              "      border-color: transparent;\n",
              "      border-right-color: var(--fill-color);\n",
              "    }\n",
              "    80% {\n",
              "      border-color: transparent;\n",
              "      border-right-color: var(--fill-color);\n",
              "      border-bottom-color: var(--fill-color);\n",
              "    }\n",
              "    90% {\n",
              "      border-color: transparent;\n",
              "      border-bottom-color: var(--fill-color);\n",
              "    }\n",
              "  }\n",
              "</style>\n",
              "\n",
              "  <script>\n",
              "    async function quickchart(key) {\n",
              "      const quickchartButtonEl =\n",
              "        document.querySelector('#' + key + ' button');\n",
              "      quickchartButtonEl.disabled = true;  // To prevent multiple clicks.\n",
              "      quickchartButtonEl.classList.add('colab-df-spinner');\n",
              "      try {\n",
              "        const charts = await google.colab.kernel.invokeFunction(\n",
              "            'suggestCharts', [key], {});\n",
              "      } catch (error) {\n",
              "        console.error('Error during call to suggestCharts:', error);\n",
              "      }\n",
              "      quickchartButtonEl.classList.remove('colab-df-spinner');\n",
              "      quickchartButtonEl.classList.add('colab-df-quickchart-complete');\n",
              "    }\n",
              "    (() => {\n",
              "      let quickchartButtonEl =\n",
              "        document.querySelector('#df-15f6c0a0-a350-41be-bd59-f58a5f139411 button');\n",
              "      quickchartButtonEl.style.display =\n",
              "        google.colab.kernel.accessAllowed ? 'block' : 'none';\n",
              "    })();\n",
              "  </script>\n",
              "</div>\n",
              "    </div>\n",
              "  </div>\n"
            ]
          },
          "metadata": {},
          "execution_count": 1
        }
      ],
      "source": [
        "import pandas as pd\n",
        "import numpy as np\n",
        "\n",
        "file_path = 'WA_Fn-UseC_-Telco-Customer-Churn.csv'\n",
        "df = pd.read_csv(file_path)\n",
        "df.head()"
      ]
    },
    {
      "cell_type": "code",
      "source": [
        "df.isna().sum()"
      ],
      "metadata": {
        "colab": {
          "base_uri": "https://localhost:8080/"
        },
        "id": "MK_NptXwPZpS",
        "outputId": "0abad3c9-bdeb-4182-f6a0-2c3121dd6872"
      },
      "execution_count": null,
      "outputs": [
        {
          "output_type": "execute_result",
          "data": {
            "text/plain": [
              "customerID          0\n",
              "gender              0\n",
              "SeniorCitizen       0\n",
              "Partner             0\n",
              "Dependents          0\n",
              "tenure              0\n",
              "PhoneService        0\n",
              "MultipleLines       0\n",
              "InternetService     0\n",
              "OnlineSecurity      0\n",
              "OnlineBackup        0\n",
              "DeviceProtection    0\n",
              "TechSupport         0\n",
              "StreamingTV         0\n",
              "StreamingMovies     0\n",
              "Contract            0\n",
              "PaperlessBilling    0\n",
              "PaymentMethod       0\n",
              "MonthlyCharges      0\n",
              "TotalCharges        0\n",
              "Churn               0\n",
              "dtype: int64"
            ]
          },
          "metadata": {},
          "execution_count": 2
        }
      ]
    },
    {
      "cell_type": "code",
      "source": [
        "# Filter the DataFrame for female customers who have churned\n",
        "female_churned = df[(df['gender'] == 'Female') & (df['Churn'] == 'Yes')]\n",
        "\n",
        "# Filter the DataFrame for male customers who have churned\n",
        "male_churned = df[(df['gender'] == 'Male') & (df['Churn'] == 'Yes')]\n",
        "\n",
        "# Count the number of female and male customers who have churned\n",
        "female_churn_count = len(female_churned)\n",
        "male_churn_count = len(male_churned)\n",
        "\n",
        "# Print the counts\n",
        "print(f\"Female customers who have churned: {female_churn_count}\")\n",
        "print(f\"Male customers who have churned: {male_churn_count}\")\n"
      ],
      "metadata": {
        "colab": {
          "base_uri": "https://localhost:8080/"
        },
        "id": "-NRtd8gpQKEM",
        "outputId": "06ac0b85-9331-47a4-9f53-a56d8346757a"
      },
      "execution_count": null,
      "outputs": [
        {
          "output_type": "stream",
          "name": "stdout",
          "text": [
            "Female customers who have churned: 939\n",
            "Male customers who have churned: 930\n"
          ]
        }
      ]
    },
    {
      "cell_type": "code",
      "source": [
        "df['Churn'].value_counts()\n",
        "df.columns\n"
      ],
      "metadata": {
        "colab": {
          "base_uri": "https://localhost:8080/"
        },
        "id": "DVYgE0uXRBuz",
        "outputId": "1d42e74b-a214-4aa3-e8d6-e3dece6ed93f"
      },
      "execution_count": null,
      "outputs": [
        {
          "output_type": "execute_result",
          "data": {
            "text/plain": [
              "Index(['customerID', 'gender', 'SeniorCitizen', 'Partner', 'Dependents',\n",
              "       'tenure', 'PhoneService', 'MultipleLines', 'InternetService',\n",
              "       'OnlineSecurity', 'OnlineBackup', 'DeviceProtection', 'TechSupport',\n",
              "       'StreamingTV', 'StreamingMovies', 'Contract', 'PaperlessBilling',\n",
              "       'PaymentMethod', 'MonthlyCharges', 'TotalCharges', 'Churn'],\n",
              "      dtype='object')"
            ]
          },
          "metadata": {},
          "execution_count": 4
        }
      ]
    },
    {
      "cell_type": "code",
      "source": [
        "# Group by 'Contract' and count the churn values\n",
        "contract_churn_counts =df.groupby('Contract')['Churn'].value_counts().unstack().fillna(0)\n",
        "\n",
        "# Calculate and print the churn percentages\n",
        "for contract_type in contract_churn_counts.index:\n",
        "    churn_yes = contract_churn_counts.loc[contract_type, 'Yes']\n",
        "    total = contract_churn_counts.loc[contract_type].sum()\n",
        "    percentage = (churn_yes / total) * 100\n",
        "    print(f\"Contract: {contract_type}, Churn Percentage: {percentage:.2f}%\")\n"
      ],
      "metadata": {
        "colab": {
          "base_uri": "https://localhost:8080/"
        },
        "id": "dxYcyNeRU7sd",
        "outputId": "a73a7ae0-5814-4998-aacb-571872f9a63d"
      },
      "execution_count": null,
      "outputs": [
        {
          "output_type": "stream",
          "name": "stdout",
          "text": [
            "Contract: Month-to-month, Churn Percentage: 42.71%\n",
            "Contract: One year, Churn Percentage: 11.27%\n",
            "Contract: Two year, Churn Percentage: 2.83%\n"
          ]
        }
      ]
    },
    {
      "cell_type": "code",
      "source": [
        "import matplotlib.pyplot as plt\n",
        "\n",
        "monthly_churn_counts = df[df['Churn'] == 'Yes'].groupby('MonthlyCharges')['Churn'].count()\n",
        "\n",
        "# Create a bar plot\n",
        "monthly_churn_counts.plot()\n",
        "plt.xlabel('Monthly Charges')\n",
        "plt.ylabel('Churn Count')\n",
        "plt.title('Churn Counts by Monthly Charges')\n",
        "plt.show()\n",
        "\n"
      ],
      "metadata": {
        "colab": {
          "base_uri": "https://localhost:8080/",
          "height": 472
        },
        "id": "7IfkbSAmW9UW",
        "outputId": "eb053858-0b35-4fee-c684-37a7285bcaa6"
      },
      "execution_count": null,
      "outputs": [
        {
          "output_type": "display_data",
          "data": {
            "text/plain": [
              "<Figure size 640x480 with 1 Axes>"
            ],
            "image/png": "[encoded data removed]"
          },
          "metadata": {}
        }
      ]
    },
    {
      "cell_type": "code",
      "source": [
        "total_churn_counts = df[df['Churn'] == 'Yes'].groupby('TotalCharges')['Churn'].count()\n",
        "\n",
        "# Create a bar plot\n",
        "total_churn_counts.plot()\n",
        "plt.xlabel('Monthly Charges')\n",
        "plt.ylabel('Churn Count')\n",
        "plt.title('Churn Counts by Monthly Charges')\n",
        "plt.show()"
      ],
      "metadata": {
        "colab": {
          "base_uri": "https://localhost:8080/",
          "height": 472
        },
        "id": "R5mrzS3-Xv1r",
        "outputId": "7d4cd04c-51b1-4876-bcc5-853f85e21bd3"
      },
      "execution_count": null,
      "outputs": [
        {
          "output_type": "display_data",
          "data": {
            "text/plain": [
              "<Figure size 640x480 with 1 Axes>"
            ],
            "image/png": "[encoded data removed]"
          },
          "metadata": {}
        }
      ]
    },
    {
      "cell_type": "code",
      "source": [
        "print(df.groupby('PaymentMethod')['Churn'].value_counts())\n",
        "\n",
        "PaymentMethod_churn_counts = df.groupby('PaymentMethod')['Churn'].value_counts().unstack().fillna(0)\n",
        "\n",
        "# Calculate and print the churn percentages\n",
        "for PaymentMethod_type in PaymentMethod_churn_counts.index:\n",
        "    churn_yes = PaymentMethod_churn_counts.loc[PaymentMethod_type, 'Yes']\n",
        "    total = PaymentMethod_churn_counts.loc[PaymentMethod_type].sum()\n",
        "    percentage = (churn_yes / total) * 100\n",
        "    print(f\"PaymentMethod: {PaymentMethod_type}, Churn Percentage: {percentage:.2f}%\")\n"
      ],
      "metadata": {
        "colab": {
          "base_uri": "https://localhost:8080/"
        },
        "id": "01auIo4QX66_",
        "outputId": "99ab7733-0f1b-4db6-fcf4-6e120795402b"
      },
      "execution_count": null,
      "outputs": [
        {
          "output_type": "stream",
          "name": "stdout",
          "text": [
            "PaymentMethod              Churn\n",
            "Bank transfer (automatic)  No       1286\n",
            "                           Yes       258\n",
            "Credit card (automatic)    No       1290\n",
            "                           Yes       232\n",
            "Electronic check           No       1294\n",
            "                           Yes      1071\n",
            "Mailed check               No       1304\n",
            "                           Yes       308\n",
            "Name: Churn, dtype: int64\n",
            "PaymentMethod: Bank transfer (automatic), Churn Percentage: 16.71%\n",
            "PaymentMethod: Credit card (automatic), Churn Percentage: 15.24%\n",
            "PaymentMethod: Electronic check, Churn Percentage: 45.29%\n",
            "PaymentMethod: Mailed check, Churn Percentage: 19.11%\n"
          ]
        }
      ]
    },
    {
      "cell_type": "code",
      "source": [
        "# Group by 'Partner' and count the churn values\n",
        "partner_churn_counts =df.groupby('Partner')['Churn'].value_counts().unstack().fillna(0)\n",
        "\n",
        "# Calculate and print the churn percentages\n",
        "for partner_type in partner_churn_counts.index:\n",
        "    churn_yes = partner_churn_counts.loc[partner_type, 'Yes']\n",
        "    total = partner_churn_counts.loc[partner_type].sum()\n",
        "    percentage = (churn_yes / total) * 100\n",
        "    print(f\"partner: {partner_type}, Churn Percentage: {percentage:.2f}%\")"
      ],
      "metadata": {
        "colab": {
          "base_uri": "https://localhost:8080/"
        },
        "id": "YQ2lcpGVi0yY",
        "outputId": "6b7463af-fe19-4352-d571-32a6e7e6db98"
      },
      "execution_count": null,
      "outputs": [
        {
          "output_type": "stream",
          "name": "stdout",
          "text": [
            "partner: No, Churn Percentage: 32.96%\n",
            "partner: Yes, Churn Percentage: 19.66%\n"
          ]
        }
      ]
    },
    {
      "cell_type": "code",
      "source": [
        "total_churn_counts = df[df['Churn'] == 'Yes'].groupby('tenure')['Churn'].count()\n",
        "\n",
        "total_churn_counts.plot()\n",
        "plt.xlabel('tenure')\n",
        "plt.ylabel('Churn Count')\n",
        "plt.title('Churn Counts by Tenure')\n",
        "plt.show()"
      ],
      "metadata": {
        "colab": {
          "base_uri": "https://localhost:8080/",
          "height": 472
        },
        "id": "ko1SjpUF2os8",
        "outputId": "8d7a7aef-0b4c-4694-c98e-e0f87ab5c82a"
      },
      "execution_count": null,
      "outputs": [
        {
          "output_type": "display_data",
          "data": {
            "text/plain": [
              "<Figure size 640x480 with 1 Axes>"
            ],
            "image/png": "[encoded data removed]"
          },
          "metadata": {}
        }
      ]
    },
    {
      "cell_type": "code",
      "source": [
        "print(df.groupby('InternetService')['Churn'].value_counts())\n",
        "\n",
        "InternetService_churn_counts = df.groupby('InternetService')['Churn'].value_counts().unstack().fillna(0)\n",
        "\n",
        "# Calculate and print the churn percentages\n",
        "for InternetService_type in InternetService_churn_counts.index:\n",
        "    churn_yes = InternetService_churn_counts.loc[InternetService_type, 'Yes']\n",
        "    total = InternetService_churn_counts.loc[InternetService_type].sum()\n",
        "    percentage = (churn_yes / total) * 100\n",
        "    print(f\"InternetService: {InternetService_type}, Churn Percentage: {percentage:.2f}%\")"
      ],
      "metadata": {
        "colab": {
          "base_uri": "https://localhost:8080/"
        },
        "id": "Miwy-aQ03KTD",
        "outputId": "1a74c931-ce8d-42dc-de0b-b3a2e8f40287"
      },
      "execution_count": null,
      "outputs": [
        {
          "output_type": "stream",
          "name": "stdout",
          "text": [
            "InternetService  Churn\n",
            "DSL              No       1962\n",
            "                 Yes       459\n",
            "Fiber optic      No       1799\n",
            "                 Yes      1297\n",
            "No               No       1413\n",
            "                 Yes       113\n",
            "Name: Churn, dtype: int64\n",
            "InternetService: DSL, Churn Percentage: 18.96%\n",
            "InternetService: Fiber optic, Churn Percentage: 41.89%\n",
            "InternetService: No, Churn Percentage: 7.40%\n"
          ]
        }
      ]
    },
    {
      "cell_type": "code",
      "source": [
        "import pandas as pd\n",
        "\n",
        "categorical_columns = ['gender', 'Partner', 'Dependents', 'PhoneService', 'MultipleLines', 'InternetService',\n",
        "                       'OnlineSecurity', 'OnlineBackup', 'DeviceProtection', 'TechSupport', 'StreamingTV',\n",
        "                       'StreamingMovies', 'Contract', 'PaperlessBilling', 'PaymentMethod']\n",
        "\n",
        "# Function to calculate and print churn percentages\n",
        "def calculate_and_print_churn_percentages(df, column):\n",
        "    churn_counts = df.groupby(column)['Churn'].value_counts().unstack().fillna(0)\n",
        "    for category in churn_counts.index:\n",
        "        churn_yes = churn_counts.loc[category, 'Yes']\n",
        "        total = churn_counts.loc[category].sum()\n",
        "        percentage = (churn_yes / total) * 100\n",
        "        print(f\"{column}: {category}, Churn Percentage: {percentage:.2f}%\")\n",
        "\n",
        "# Calculate and print churn percentages for each categorical column\n",
        "for column in categorical_columns:\n",
        "    calculate_and_print_churn_percentages(df, column)\n",
        "    print(\"\\n\")"
      ],
      "metadata": {
        "colab": {
          "base_uri": "https://localhost:8080/"
        },
        "id": "b5ItyDQtiIya",
        "outputId": "18e87e21-6ffe-4d91-e655-2628adba4d60"
      },
      "execution_count": null,
      "outputs": [
        {
          "output_type": "stream",
          "name": "stdout",
          "text": [
            "gender: Female, Churn Percentage: 26.92%\n",
            "gender: Male, Churn Percentage: 26.16%\n",
            "\n",
            "\n",
            "Partner: No, Churn Percentage: 32.96%\n",
            "Partner: Yes, Churn Percentage: 19.66%\n",
            "\n",
            "\n",
            "Dependents: No, Churn Percentage: 31.28%\n",
            "Dependents: Yes, Churn Percentage: 15.45%\n",
            "\n",
            "\n",
            "PhoneService: No, Churn Percentage: 24.93%\n",
            "PhoneService: Yes, Churn Percentage: 26.71%\n",
            "\n",
            "\n",
            "MultipleLines: No, Churn Percentage: 25.04%\n",
            "MultipleLines: No phone service, Churn Percentage: 24.93%\n",
            "MultipleLines: Yes, Churn Percentage: 28.61%\n",
            "\n",
            "\n",
            "InternetService: DSL, Churn Percentage: 18.96%\n",
            "InternetService: Fiber optic, Churn Percentage: 41.89%\n",
            "InternetService: No, Churn Percentage: 7.40%\n",
            "\n",
            "\n",
            "OnlineSecurity: No, Churn Percentage: 41.77%\n",
            "OnlineSecurity: No internet service, Churn Percentage: 7.40%\n",
            "OnlineSecurity: Yes, Churn Percentage: 14.61%\n",
            "\n",
            "\n",
            "OnlineBackup: No, Churn Percentage: 39.93%\n",
            "OnlineBackup: No internet service, Churn Percentage: 7.40%\n",
            "OnlineBackup: Yes, Churn Percentage: 21.53%\n",
            "\n",
            "\n",
            "DeviceProtection: No, Churn Percentage: 39.13%\n",
            "DeviceProtection: No internet service, Churn Percentage: 7.40%\n",
            "DeviceProtection: Yes, Churn Percentage: 22.50%\n",
            "\n",
            "\n",
            "TechSupport: No, Churn Percentage: 41.64%\n",
            "TechSupport: No internet service, Churn Percentage: 7.40%\n",
            "TechSupport: Yes, Churn Percentage: 15.17%\n",
            "\n",
            "\n",
            "StreamingTV: No, Churn Percentage: 33.52%\n",
            "StreamingTV: No internet service, Churn Percentage: 7.40%\n",
            "StreamingTV: Yes, Churn Percentage: 30.07%\n",
            "\n",
            "\n",
            "StreamingMovies: No, Churn Percentage: 33.68%\n",
            "StreamingMovies: No internet service, Churn Percentage: 7.40%\n",
            "StreamingMovies: Yes, Churn Percentage: 29.94%\n",
            "\n",
            "\n",
            "Contract: Month-to-month, Churn Percentage: 42.71%\n",
            "Contract: One year, Churn Percentage: 11.27%\n",
            "Contract: Two year, Churn Percentage: 2.83%\n",
            "\n",
            "\n",
            "PaperlessBilling: No, Churn Percentage: 16.33%\n",
            "PaperlessBilling: Yes, Churn Percentage: 33.57%\n",
            "\n",
            "\n",
            "PaymentMethod: Bank transfer (automatic), Churn Percentage: 16.71%\n",
            "PaymentMethod: Credit card (automatic), Churn Percentage: 15.24%\n",
            "PaymentMethod: Electronic check, Churn Percentage: 45.29%\n",
            "PaymentMethod: Mailed check, Churn Percentage: 19.11%\n",
            "\n",
            "\n"
          ]
        }
      ]
    }
  ]
}